{
 "cells": [
  {
   "cell_type": "code",
   "execution_count": 101,
   "id": "440c6c6e-38d7-4b72-a103-2862b468af13",
   "metadata": {
    "tags": []
   },
   "outputs": [
    {
     "name": "stdout",
     "output_type": "stream",
     "text": [
      "Rating \t Frequency Percentage\n",
      "1 \t 7 \t     28.000000000000004 % | +++++++\n",
      "2 \t 3 \t     12.0 % | +++\n",
      "3 \t 5 \t     20.0 % | +++++\n",
      "4 \t 7 \t     28.000000000000004 % | +++++++\n",
      "5 \t 3 \t     12.0 % | +++\n",
      "\n",
      "Minimum:  1\n",
      "Maximum:  5\n",
      "Standard Dev:  1.4341083176199303\n",
      "Average:  2.84\n",
      "Mode:  1\n",
      "Median:  3\n"
     ]
    }
   ],
   "source": [
    "def analyze (my_list):\n",
    "    from statistics import stdev\n",
    "    from statistics import mode\n",
    "    from statistics import mean\n",
    "    from statistics import median\n",
    "\n",
    "my_list= [1, 1, 1, 1, 1, 1, 1, 2, 2, 2, 3, 3, 3, 3, 3, 4, 4, 4, 4, 4, 4, 4, 5, 5, 5]\n",
    "my_dict = {}\n",
    "\n",
    "for number in my_list:\n",
    "    if number not in my_dict:\n",
    "        my_dict [number] = 1\n",
    "    else:\n",
    "        my_dict [number] += 1\n",
    "        \n",
    "print(\"Rating\", \"\\t\" , \"Frequency\", \"Percentage\")\n",
    "for key, value in my_dict.items():\n",
    "    print (key, \"\\t\" , value, \"\\t    \", f\"{(value/len(my_list))*100: >4}\"  , \"%\", \"|\", \"+\" * value )\n",
    "print ()\n",
    "print (\"Minimum: \", min(1, 1, 1, 1, 1, 1, 1, 2, 2, 2, 3, 3, 3, 3, 3, 4, 4, 4, 4, 4, 4, 4, 5, 5, 5))\n",
    "print (\"Maximum: \", max(1, 1, 1, 1, 1, 1, 1, 2, 2, 2, 3, 3, 3, 3, 3, 4, 4, 4, 4, 4, 4, 4, 5, 5, 5))\n",
    "print (\"Standard Dev: \", stdev)\n",
    "print (\"Average: \", \"%.2f\" % average)\n",
    "print (\"Mode: \", mode)\n",
    "print (\"Median: \", median)\n",
    "\n",
    "analyze (my_list)"
   ]
  },
  {
   "cell_type": "code",
   "execution_count": null,
   "id": "90ca9a51-d506-4550-afdb-1eabd51d43da",
   "metadata": {},
   "outputs": [],
   "source": []
  }
 ],
 "metadata": {
  "kernelspec": {
   "display_name": "Python 3 (ipykernel)",
   "language": "python",
   "name": "python3"
  },
  "language_info": {
   "codemirror_mode": {
    "name": "ipython",
    "version": 3
   },
   "file_extension": ".py",
   "mimetype": "text/x-python",
   "name": "python",
   "nbconvert_exporter": "python",
   "pygments_lexer": "ipython3",
   "version": "3.11.5"
  }
 },
 "nbformat": 4,
 "nbformat_minor": 5
}
