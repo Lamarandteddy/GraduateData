{
 "cells": [
  {
   "cell_type": "markdown",
   "metadata": {},
   "source": [
    "# MSBA 605-77 - Python for Analytics\n",
    "## Problem Solving Exercise 3\n",
    "### Logisitics\n",
    "1. Get into your weekly group.\n",
    "1. Discuss and complete the assignment __together__. Don’t just assign different problems to each teammate! That defeats the purpose of team-based learning.\n",
    "1. Choose a recorder to prepare the final copy to submit to instructor in Blackboard. __Only one person needs to submit__ on behalf of the team.\n",
    "\n",
    "__Names of group members__: Jonathan Thompson, Uchechukwu Okonkwo, Simran Likhitapudi<br>\n",
    "__Due__: Sunday, October 22 (by 11:59 PM)\n",
    "\n",
    "Add your code to the cells below. When finished, be sure to save your notebook, then _Close and Shutdown Notebook_ from the _File_ menu. Return to Blackboard and have recorder upload your completed Notebook file (`PSE3.ipynb`) on behalf of the group."
   ]
  },
  {
   "cell_type": "code",
   "execution_count": 1,
   "metadata": {
    "tags": []
   },
   "outputs": [],
   "source": [
    "import numpy as np"
   ]
  },
  {
   "cell_type": "markdown",
   "metadata": {},
   "source": [
    "## Part 1 "
   ]
  },
  {
   "cell_type": "markdown",
   "metadata": {},
   "source": [
    "### Problem 1\n",
    "In the code cell below, write a Python script that uses NumPy to create an array of 10 zeros, an array of 10 ones, and an array of 10 fives. Use NumPy methods `zeros` and `ones`. You can multiply an array by a scalar like `5` to get the third result. Print each array. (3 pts.)"
   ]
  },
  {
   "cell_type": "code",
   "execution_count": 9,
   "metadata": {
    "tags": []
   },
   "outputs": [
    {
     "name": "stdout",
     "output_type": "stream",
     "text": [
      "Array of 10 zeros:\n",
      "[0. 0. 0. 0. 0. 0. 0. 0. 0. 0.]\n",
      "Array of 10 ones:\n",
      "[1. 1. 1. 1. 1. 1. 1. 1. 1. 1.]\n",
      "Array of 10 fives:\n",
      "[5. 5. 5. 5. 5. 5. 5. 5. 5. 5.]\n"
     ]
    }
   ],
   "source": [
    "import numpy as np\n",
    "\n",
    "array=np.zeros(10)\n",
    "print(\"Array of 10 zeros:\")\n",
    "print(array)\n",
    "array2=np.ones(10)\n",
    "print(\"Array of 10 ones:\")\n",
    "print(array2)\n",
    "array3=np.ones(10)*5\n",
    "print(\"Array of 10 fives:\")\n",
    "print(array3)\n"
   ]
  },
  {
   "cell_type": "markdown",
   "metadata": {},
   "source": [
    "### Problem 2\n",
    "In the code cell below, write a Python script that uses NumPy to create an array of integers from 25 to 50 (inclusive) using NumPy method `arange`. Print the array. Also, print the `dtype` attribute of this array to see which integer type was used to represent the data. (2 pts.)"
   ]
  },
  {
   "cell_type": "code",
   "execution_count": 68,
   "metadata": {
    "tags": []
   },
   "outputs": [
    {
     "name": "stdout",
     "output_type": "stream",
     "text": [
      "Array range:\n",
      "[25 26 27 28 29 30 31 32 33 34 35 36 37 38 39 40 41 42 43 44 45 46 47 48\n",
      " 49 50]\n",
      "\n",
      "dtype: == int32\n"
     ]
    }
   ],
   "source": [
    "import numpy as np\n",
    "\n",
    "array=np.arange(25,51)\n",
    "print(\"Array range:\")\n",
    "print (array)\n",
    "\n",
    "print(\"\")\n",
    "print(f'dtype: == {array.dtype}')"
   ]
  },
  {
   "cell_type": "markdown",
   "metadata": {},
   "source": [
    "### Problem 3\n",
    "In the code cell below, write a Python script that uses NumPy to create a 2-by-2 array containing the numbers 0–3 using `arange` and `reshape`. Use broadcasting to perform each of the following operations on the original array creating a new array and printing its contents (5 pts.):\n",
    "1. Cube every element of the array.\n",
    "1. Add 7 to every element of the array.\n",
    "1. Multiply every element of the array by 2. "
   ]
  },
  {
   "cell_type": "code",
   "execution_count": 64,
   "metadata": {
    "tags": []
   },
   "outputs": [
    {
     "name": "stdout",
     "output_type": "stream",
     "text": [
      "[[0 1]\n",
      " [2 3]]\n",
      "\n",
      "[[ 0  1]\n",
      " [ 8 27]]\n",
      "\n",
      "[[ 7  8]\n",
      " [ 9 10]]\n",
      "\n",
      "[[0 2]\n",
      " [4 6]]\n"
     ]
    }
   ],
   "source": [
    "import numpy as np\n",
    "\n",
    "array = np.arange(0,4).reshape((2, 2))\n",
    "print (array)\n",
    "\n",
    "print(\"\")\n",
    "print (array **3)\n",
    "\n",
    "print(\"\")\n",
    "print (np.add(array, 7))\n",
    "print(\"\")\n",
    "\n",
    "print (array * 2)"
   ]
  },
  {
   "cell_type": "markdown",
   "metadata": {},
   "source": [
    "### Problem 4\n",
    "In the code cell below, write a Python script that uses NumPy to create two arrays: one called `students` with `'Janet'`, `'Adriana'`, `'Manual'`, `'Mohamed'`, `'Leann'` as values and another called `grades` with `[93, 85]`, `[78, 80]`, `[94, 93]`, `[75, 90]`, `[92, 87]` as values. Using Boolean indexing (as shown in [Section 4.1](https://wesmckinney.com/book/numpy-basics#ndarray_boolean)), select all rows from `grades` where `students` is either `'Janet'` or `'Leann'`. Remember, to combine multiple Boolean conditions, use Boolean arithmetic operators like `&` (and) and `|` (or). Print both arrays and the result from `grades` after indexing. (5 pts.)"
   ]
  },
  {
   "cell_type": "code",
   "execution_count": 230,
   "metadata": {
    "tags": []
   },
   "outputs": [
    {
     "name": "stdout",
     "output_type": "stream",
     "text": [
      "Students names:\n",
      "['Janet' 'Adriana' 'Manual' 'Mohamed' 'Leann']\n",
      "\n",
      "Grades:\n",
      "[[93 85]\n",
      " [78 80]\n",
      " [94 93]\n",
      " [75 90]\n",
      " [92 87]]\n",
      "\n",
      "Selected Grades for 'Janet' and 'Leann':\n",
      "[[93 85]\n",
      " [92 87]]\n"
     ]
    }
   ],
   "source": [
    "import numpy as np\n",
    "\n",
    "names = np.array([\"Janet\", \"Adriana\", \"Manual\", \"Mohamed\", \"Leann\"])\n",
    "\n",
    "grades = np.array ([[93, 85], [78, 80], [94, 93], [75, 90], [92, 87]])\n",
    "\n",
    "\n",
    "cond = (names == 'Janet') | (names == 'Leann')\n",
    "selected_grades = grades[cond]\n",
    "\n",
    "print (\"Students names:\")\n",
    "print (names)\n",
    "\n",
    "print (\"\\nGrades:\")\n",
    "print (grades)\n",
    "\n",
    " \n",
    "\n",
    "print(\"\\nSelected Grades for 'Janet' and 'Leann':\")\n",
    "print(selected_grades)"
   ]
  },
  {
   "cell_type": "markdown",
   "metadata": {},
   "source": [
    "### Problem 5\n",
    "In the code cell below, write a Python script that uses NumPy to calculate the mean of all the grades stored in the `grades` array you created in the previous problem. Use NumPy method `mean` to calculate this (as shown in [Section 4.4](https://wesmckinney.com/book/numpy-basics#ndarray_statistics)). Next, use `np.where()` (also from [Section 4.4](https://wesmckinney.com/book/numpy-basics#numpy_where)) to create a Boolean array that will print `True` when the student's grade is greater than the overall class mean you just calculated and `False` when it is not. Print the mean and the resulting Boolean array. (5 pts.)"
   ]
  },
  {
   "cell_type": "code",
   "execution_count": 233,
   "metadata": {
    "tags": []
   },
   "outputs": [
    {
     "name": "stdout",
     "output_type": "stream",
     "text": [
      "grades:\n",
      "[[93 85]\n",
      " [78 80]\n",
      " [94 93]\n",
      " [75 90]\n",
      " [92 87]]\n",
      "\n",
      "grades.mean() == 86.7\n",
      "\n"
     ]
    },
    {
     "data": {
      "text/plain": [
       "array([[ True, False],\n",
       "       [False, False],\n",
       "       [ True,  True],\n",
       "       [False,  True],\n",
       "       [ True,  True]])"
      ]
     },
     "execution_count": 233,
     "metadata": {},
     "output_type": "execute_result"
    }
   ],
   "source": [
    "import numpy as np\n",
    "\n",
    "students=np.array(['Janet', 'Adriana', 'Manual', 'Mohamed', 'Leann'])\n",
    "\n",
    "print (\"grades:\")\n",
    "print (grades)\n",
    "grades=np.array([[93, 85], [78, 80], [94, 93], [75, 90], [92, 87]])\n",
    "\n",
    "print(\"\")\n",
    "print(f'grades.mean() == {grades.mean()}')\n",
    "result= np.where(86.7)\n",
    "result\n",
    "\n",
    "print(\"\")\n",
    "grades > 86.7\n"
   ]
  },
  {
   "cell_type": "markdown",
   "metadata": {},
   "source": [
    "### Problem 6\n",
    "The following students signed up for another class, `['Frank', 'Fernando', 'Manual', 'Shannon', 'Leann', 'Deborah']`. How many of these students are also students included in the array you created in Problem 4 above. __Hint__: This can be accomplished using the NumPy `in1d` function. (3 pts.)"
   ]
  },
  {
   "cell_type": "code",
   "execution_count": 3,
   "metadata": {
    "tags": []
   },
   "outputs": [
    {
     "name": "stdout",
     "output_type": "stream",
     "text": [
      "[False False  True False  True]\n",
      "Students in both classes: 2\n"
     ]
    }
   ],
   "source": [
    "import numpy as np\n",
    "\n",
    "students1=np.array(['Janet', 'Adriana', 'Manual', 'Mohamed', 'Leann'])\n",
    "students2=np.array(['Frank', 'Fernando', 'Manual', 'Shannon', 'Leann', 'Deborah'])\n",
    "\n",
    "result = np.in1d(students1, students2, ['Frank', 'Fernando', 'Manual', 'Shannon', 'Leann', 'Deborah'])\n",
    "print (result)\n",
    "print(f'Students in both classes: {sum(np.in1d(students1, students2))}')\n",
    "\n"
   ]
  },
  {
   "cell_type": "markdown",
   "metadata": {},
   "source": [
    "### Problem 7\n",
    "The students from Problem 6 need to split up to form 3 groups of 2. Use a single line of code to convert the array to a matrix with 3 rows and 2 columns. (2 pts.)"
   ]
  },
  {
   "cell_type": "code",
   "execution_count": 7,
   "metadata": {
    "tags": []
   },
   "outputs": [
    {
     "name": "stdout",
     "output_type": "stream",
     "text": [
      "[['Frank' 'Fernando']\n",
      " ['Manual' 'Shannon']\n",
      " ['Leann' 'Deborah']]\n"
     ]
    }
   ],
   "source": [
    "print(students2.reshape(3,2))"
   ]
  },
  {
   "cell_type": "markdown",
   "metadata": {},
   "source": [
    "## Part 2"
   ]
  },
  {
   "cell_type": "markdown",
   "metadata": {},
   "source": [
    "### Problem 1\n",
    "In the code cell below, write a Python script that uses NumPy to simulate rolling a standard 6-sided die 10 times using an approach similar to that shown in [Section 4.7 Example: Random Walks](https://wesmckinney.com/book/numpy-basics#example_random_walks). First, create a fresh random number generator using `seed=54321`. Next, use the `integers` method as shown in [Section 4.7](https://wesmckinney.com/book/numpy-basics#example_random_walks) and detailed in the [NumPy documentation](https://numpy.org/doc/stable/reference/random/generated/numpy.random.Generator.integers.html) to generate the 10 random rolls of the die. Use the NumPy `unique` method (described in [Section 4.4](https://wesmckinney.com/book/numpy-basics#numpy_algos_sets)) to find the unique values rolled in your array of random rolls. It's entirely possible that not all values from 1-6 came up in only 10 random rolls. If you used the specified random seed correctly, no 2 should have come up in the first 10 rolls. Print the resulting array of random rolls and the unique values from it. (5 pts.)"
   ]
  },
  {
   "cell_type": "code",
   "execution_count": 9,
   "metadata": {
    "tags": []
   },
   "outputs": [
    {
     "name": "stdout",
     "output_type": "stream",
     "text": [
      "[1 5 6 6 4 3 5 1 3 3]\n",
      "[1 3 4 5 6]\n"
     ]
    }
   ],
   "source": [
    "import numpy as np\n",
    "\n",
    "rng= np.random.default_rng(seed=54321) \n",
    "random_rolls = rng.integers(1, 7, size=10)\n",
    "print(random_rolls)\n",
    "\n",
    "unique_rolls=np.unique(random_rolls)\n",
    "print (unique_rolls)"
   ]
  },
  {
   "cell_type": "markdown",
   "metadata": {},
   "source": [
    "### Problem 2\n",
    "Create a fresh random number generator using `seed=123123`. Next, define a new variable called `rarray` as a 2 by 3 array filled with random integers from 0 to 100 (inclusive). Print your array. (3 pts.)"
   ]
  },
  {
   "cell_type": "code",
   "execution_count": 48,
   "metadata": {
    "tags": []
   },
   "outputs": [
    {
     "name": "stdout",
     "output_type": "stream",
     "text": [
      "[[ 9 62 33]\n",
      " [28 91 82]]\n"
     ]
    }
   ],
   "source": [
    "rng=np.random.default_rng(seed=123123)\n",
    "rarray=rng.integers(0, 101, size= (2, 3))\n",
    "print(rarray)"
   ]
  },
  {
   "cell_type": "markdown",
   "metadata": {},
   "source": [
    "### Problem 3\n",
    "Sort `rarray` so that each row is in ascending order. Print your array to confirm your result. (2 pts.)"
   ]
  },
  {
   "cell_type": "code",
   "execution_count": 49,
   "metadata": {
    "tags": []
   },
   "outputs": [
    {
     "name": "stdout",
     "output_type": "stream",
     "text": [
      "Sorted Array:\n",
      "[[ 9 33 62]\n",
      " [28 82 91]]\n"
     ]
    }
   ],
   "source": [
    "import numpy as np\n",
    "\n",
    "print(\"Sorted Array:\")\n",
    "sorting = np.sort(rarray)\n",
    "print (sorting)"
   ]
  },
  {
   "cell_type": "markdown",
   "metadata": {},
   "source": [
    "### Problem 4\n",
    "Create a fresh random number generator using `seed=321321`. Next, define a new variable called `rarray2` as a 1 by 3 array filled with random integers from 0 to 100 (inclusive). Print this array. (3 pts.)"
   ]
  },
  {
   "cell_type": "code",
   "execution_count": 57,
   "metadata": {
    "tags": []
   },
   "outputs": [
    {
     "name": "stdout",
     "output_type": "stream",
     "text": [
      "[[28 43 51]]\n"
     ]
    }
   ],
   "source": [
    "\n",
    "rng2=np.random.default_rng(seed=321321)\n",
    "rarray2=rng.integers(0, 101, size= (1,3))\n",
    "print(rarray2)"
   ]
  },
  {
   "cell_type": "markdown",
   "metadata": {},
   "source": [
    "### Problem 5\n",
    "Use broadcasting to divide `rarray` by `rarray2` and save the result as a variable called `resarray`. Print this array. (2 pts.)"
   ]
  },
  {
   "cell_type": "code",
   "execution_count": 58,
   "metadata": {
    "tags": []
   },
   "outputs": [
    {
     "name": "stdout",
     "output_type": "stream",
     "text": [
      "resarray:\n",
      "[[0.32142857 1.44186047 0.64705882]\n",
      " [1.         2.11627907 1.60784314]]\n"
     ]
    }
   ],
   "source": [
    "print (\"resarray:\")\n",
    "resarray= rarray/rarray2\n",
    "print (resarray)\n"
   ]
  },
  {
   "cell_type": "markdown",
   "metadata": {},
   "source": [
    "### Problem 6\n",
    "Even though both arrays contain integers, what do you notice about the resulting array that supports NumPy's ability to convert between numeric types? Print the data type of `resarray` to support your conclusion. (2 pts.)"
   ]
  },
  {
   "cell_type": "code",
   "execution_count": 60,
   "metadata": {
    "tags": []
   },
   "outputs": [
    {
     "name": "stdout",
     "output_type": "stream",
     "text": [
      "Array: [[0.32142857 1.44186047 0.64705882]\n",
      " [1.         2.11627907 1.60784314]]\n",
      "Datatype: float64\n"
     ]
    }
   ],
   "source": [
    "#NumPy has the ability to perform operations that involve arrays with different numeric types. In the case of division operation, even though both rarray and rarray2 contain integers, the result might be represented as floating-point numbers if the division doesn't yield an integer.\n",
    "#To support this, we printed the data type of resarray using the dtype function:\n",
    "print('Array:', resarray)\n",
    " \n",
    "print('Datatype:', resarray.dtype)"
   ]
  },
  {
   "cell_type": "markdown",
   "metadata": {},
   "source": [
    "### Problem 7\n",
    "Calculate the sum of the rows of `resarray` and save it in a variable called `sumarray`. Print this array. (3 pts.)"
   ]
  },
  {
   "cell_type": "code",
   "execution_count": 64,
   "metadata": {
    "tags": []
   },
   "outputs": [
    {
     "name": "stdout",
     "output_type": "stream",
     "text": [
      "sumarray:[2.41034786 4.72412221]\n"
     ]
    }
   ],
   "source": [
    "\n",
    "sumarray = resarray.sum(axis = 1)\n",
    "print(f'sumarray:{sumarray}')"
   ]
  },
  {
   "cell_type": "markdown",
   "metadata": {},
   "source": [
    "### Problem 8\n",
    "Create a fresh random number generator using `seed=121212`. Next, _flatten_ the contents of `rarray` as shown in [Appendix A section Reshaping Arrays](https://wesmckinney.com/book/advanced-numpy#numpy_reshaping) and then use your random number generator to shuffle the contents of `rarray` using method `shuffle` as shown in the [NumPy documentation](https://numpy.org/doc/stable/reference/random/generated/numpy.random.Generator.shuffle.html). Finally, reshape your shuffled data back into a 2 by 3 array and print this array. (5 pts.)"
   ]
  },
  {
   "cell_type": "code",
   "execution_count": 76,
   "metadata": {
    "tags": []
   },
   "outputs": [
    {
     "name": "stdout",
     "output_type": "stream",
     "text": [
      "rarray:\n",
      "[[ 9 62 33]\n",
      " [28 91 82]]\n"
     ]
    }
   ],
   "source": [
    "rng2 = np.random.default_rng(seed = 121212)\n",
    "rarray = rarray.flatten()\n",
    "rng2.shuffle(rarray)\n",
    "\n",
    "print(f'rarray:\\n{rarray.reshape(2,3)}')"
   ]
  },
  {
   "cell_type": "code",
   "execution_count": null,
   "metadata": {},
   "outputs": [],
   "source": []
  }
 ],
 "metadata": {
  "kernelspec": {
   "display_name": "Python 3 (ipykernel)",
   "language": "python",
   "name": "python3"
  },
  "language_info": {
   "codemirror_mode": {
    "name": "ipython",
    "version": 3
   },
   "file_extension": ".py",
   "mimetype": "text/x-python",
   "name": "python",
   "nbconvert_exporter": "python",
   "pygments_lexer": "ipython3",
   "version": "3.11.5"
  }
 },
 "nbformat": 4,
 "nbformat_minor": 4
}
