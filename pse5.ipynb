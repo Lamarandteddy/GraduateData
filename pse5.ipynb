{
 "cells": [
  {
   "cell_type": "markdown",
   "metadata": {},
   "source": [
    "# MSBA 605-77 - Python for Analytics\n",
    "## Problem Solving Exercise 1\n",
    "### Logisitics\n",
    "1. Get into your weekly group.\n",
    "1. Discuss and complete the assignment __together__. Don’t just assign different problems to each teammate! That defeats the purpose of team-based learning.\n",
    "1. Choose a recorder to prepare the final copy to submit to instructor in Blackboard. __Only one person needs to submit__ on behalf of the team.\n",
    "\n",
    "__Names of group members__: Jonathan Thompson,Aravind kumar Madavaram,pranith reddy thota.\n",
    "__Due__: Sunday, October 8 (by 11:59 PM)\n",
    "\n",
    "Add your code to the cells below. When finished, be sure to save your notebook, then _Close and Shutdown Notebook_ from the _File_ menu. Return to Blackboard and have recorder upload your completed Notebook file (`PSE1.ipynb`) on behalf of the group."
   ]
  },
  {
   "cell_type": "markdown",
   "metadata": {},
   "source": [
    "## Part 1 "
   ]
  },
  {
   "cell_type": "markdown",
   "metadata": {},
   "source": [
    "### Problem 1\n",
    "Assign `3` to a variable named `a` and `2` to a variable named `b`. Print the `type` of these variables. (2 pts.)"
   ]
  },
  {
   "cell_type": "code",
   "execution_count": null,
   "metadata": {},
   "outputs": [],
   "source": [
    "a = 3;\n",
    "print(type(a))\n",
    "b = 2;\n",
    "print(type(b))\n",
    "\n",
    "\n",
    "\n",
    "\n",
    "    \n"
   ]
  },
  {
   "cell_type": "markdown",
   "metadata": {},
   "source": [
    "### Problem 2\n",
    "Use the `is` operator to check if `a` and `b` refer to the same object. In a comment in your code, explain if this result matches your expectations. (3 pts.)"
   ]
  },
  {
   "cell_type": "code",
   "execution_count": 10,
   "metadata": {},
   "outputs": [
    {
     "data": {
      "text/plain": [
       "True"
      ]
     },
     "execution_count": 10,
     "metadata": {},
     "output_type": "execute_result"
    }
   ],
   "source": [
    "a = 10;\n",
    "b = a;\n",
    "a is b"
   ]
  },
  {
   "cell_type": "markdown",
   "metadata": {},
   "source": [
    "### Problem 3\n",
    "Assign `5` to two variables named `c` and `d`. Use the `is` operator to check if `c` and `d` refer to the same object. In a comment in your code, explain if this result matches your expectations. Review the [Small Integer Caching](https://realpython.com/lessons/small-integer-caching/) lesson to better understand what is happening here. (3 pts.)"
   ]
  },
  {
   "cell_type": "code",
   "execution_count": 11,
   "metadata": {},
   "outputs": [
    {
     "data": {
      "text/plain": [
       "True"
      ]
     },
     "execution_count": 11,
     "metadata": {},
     "output_type": "execute_result"
    }
   ],
   "source": [
    "c = 5;# Assigning the value 5 to the variable c\n",
    "d = 5;# Assigning the value 5 to the variable d\n",
    "c is d# checking c and d refer to the same object"
   ]
  },
  {
   "cell_type": "markdown",
   "metadata": {},
   "source": [
    "### Problem 4\n",
    "Create a variable `adivb` that is the result of `a` divided by `b` using `/` and print the type of the result. (2 pts.)"
   ]
  },
  {
   "cell_type": "code",
   "execution_count": 12,
   "metadata": {},
   "outputs": [
    {
     "name": "stdout",
     "output_type": "stream",
     "text": [
      "<class 'float'>\n"
     ]
    }
   ],
   "source": [
    "adivb = a/b;\n",
    "print(type(adivb))"
   ]
  },
  {
   "cell_type": "markdown",
   "metadata": {},
   "source": [
    "### Problem 5\n",
    "Create a variable `afloorb` that is the result of `a` floor divided by `b` using `//` and print the type of the result. (2 pts.)"
   ]
  },
  {
   "cell_type": "code",
   "execution_count": 13,
   "metadata": {},
   "outputs": [
    {
     "name": "stdout",
     "output_type": "stream",
     "text": [
      "<class 'int'>\n"
     ]
    }
   ],
   "source": [
    "afloorb = a//b;\n",
    "print(type(afloorb))"
   ]
  },
  {
   "cell_type": "markdown",
   "metadata": {},
   "source": [
    "### Problem 6\n",
    "Create a variable `amodb` that is the remainder of `a` divided by `b` using `%` and print the result. In a comment in your code, explain how this can be used to determine if an integer is even or odd. (3 pts.)"
   ]
  },
  {
   "cell_type": "code",
   "execution_count": 18,
   "metadata": {},
   "outputs": [
    {
     "name": "stdout",
     "output_type": "stream",
     "text": [
      "2\n"
     ]
    }
   ],
   "source": [
    "a = 6;\n",
    "b = 4;\n",
    "amodb = a%b;#if a%b = 0 the integer is even and if a%b != 0 the integer is odd\n",
    "print(amodb)"
   ]
  },
  {
   "cell_type": "markdown",
   "metadata": {},
   "source": [
    "### Problem 7\n",
    "Create a variable named `trunc` that is the result of calling `int(6.57)` and print the result. In a comment in your code, explain if this result matches your expectations. Explore the [`round` function](https://docs.python.org/3/library/functions.html#round) for an alternative. (3 pts.)"
   ]
  },
  {
   "cell_type": "code",
   "execution_count": 28,
   "metadata": {},
   "outputs": [
    {
     "name": "stdout",
     "output_type": "stream",
     "text": [
      "6\n"
     ]
    }
   ],
   "source": [
    "trunc = int(6.57)#The result does not match our expectations because the expected result should be 6.57\n",
    "print(trunc)"
   ]
  },
  {
   "cell_type": "markdown",
   "metadata": {},
   "source": [
    "## Problem 8\n",
    "Create a variable named `s` that stores the string `'hello'`. Print just the first letter from `s` using an index. (2 pts.)"
   ]
  },
  {
   "cell_type": "code",
   "execution_count": 33,
   "metadata": {},
   "outputs": [
    {
     "name": "stdout",
     "output_type": "stream",
     "text": [
      "h\n"
     ]
    }
   ],
   "source": [
    "s = \"hello\"\n",
    "print(s[0])"
   ]
  },
  {
   "cell_type": "markdown",
   "metadata": {},
   "source": [
    "### Problem 9\n",
    "Try to change the first letter of `s` to the letter `m` using an index. In a comment in your code, explain what happened. (3 pts.)"
   ]
  },
  {
   "cell_type": "code",
   "execution_count": 50,
   "metadata": {},
   "outputs": [
    {
     "ename": "TypeError",
     "evalue": "'str' object does not support item assignment",
     "output_type": "error",
     "traceback": [
      "\u001b[0;31m---------------------------------------------------------------------------\u001b[0m",
      "\u001b[0;31mTypeError\u001b[0m                                 Traceback (most recent call last)",
      "Cell \u001b[0;32mIn[50], line 2\u001b[0m\n\u001b[1;32m      1\u001b[0m s \u001b[38;5;241m=\u001b[39m \u001b[38;5;124m\"\u001b[39m\u001b[38;5;124mhello\u001b[39m\u001b[38;5;124m\"\u001b[39m\n\u001b[0;32m----> 2\u001b[0m s[\u001b[38;5;241m0\u001b[39m] \u001b[38;5;241m=\u001b[39m \u001b[38;5;124m\"\u001b[39m\u001b[38;5;124mm\u001b[39m\u001b[38;5;124m\"\u001b[39m\n\u001b[1;32m      3\u001b[0m \u001b[38;5;28mprint\u001b[39m(s)\n",
      "\u001b[0;31mTypeError\u001b[0m: 'str' object does not support item assignment"
     ]
    }
   ],
   "source": [
    "s = \"hello\"\n",
    "s[0] = \"m\"#You cannot assign the characters in a string.Strings are immutable. \n",
    "print(s)\n",
    "\n"
   ]
  },
  {
   "cell_type": "markdown",
   "metadata": {},
   "source": [
    "### Problem 10\n",
    "Create a variable named `b_result` and assign it the result of `7 > 5` and print the result. (2 pts.)"
   ]
  },
  {
   "cell_type": "code",
   "execution_count": 46,
   "metadata": {},
   "outputs": [
    {
     "name": "stdout",
     "output_type": "stream",
     "text": [
      "True\n"
     ]
    }
   ],
   "source": [
    "result = 7>5\n",
    "b_result = result\n",
    "print(b_result)"
   ]
  },
  {
   "cell_type": "markdown",
   "metadata": {},
   "source": [
    "## Part 2"
   ]
  },
  {
   "cell_type": "markdown",
   "metadata": {},
   "source": [
    "### Problem 1\n",
    "In the code cell below, write a Python script that calculates the square and cube of each of the numbers from 1 to 10 (inclusive) using a `for` or `while` loop. Print the resulting values in tablular format, as shown below. Use the tab escape sequence (`\\t`) to insert a tab between each value to achieve the 3-column output. (5 pts.)\n",
    "#### Sample Output\n",
    "```\n",
    "Num\tSquare\tCube\n",
    "1\t1\t1\n",
    "2\t4\t8\n",
    "3\t9\t27\n",
    "4\t16\t64\n",
    "5\t25\t125\n",
    "6\t36\t216\n",
    "7\t49\t343\n",
    "8\t64\t512\n",
    "9\t81\t729\n",
    "10\t100\t1000\n",
    "```"
   ]
  },
  {
   "cell_type": "code",
   "execution_count": 12,
   "metadata": {
    "tags": []
   },
   "outputs": [
    {
     "name": "stdout",
     "output_type": "stream",
     "text": [
      "number\tsquare\tcube\n",
      "1\t1\t1\n",
      "2\t4\t8\n",
      "3\t9\t27\n",
      "4\t16\t64\n",
      "5\t25\t125\n",
      "6\t36\t216\n",
      "7\t49\t343\n",
      "8\t64\t512\n",
      "9\t81\t729\n",
      "10\t100\t1000\n"
     ]
    }
   ],
   "source": [
    "number = 1\n",
    "square = 1\n",
    "cube = 1\n",
    "print(\"number\\tsquare\\tcube\")\n",
    "for number in range(1,11):\n",
    "    square = number * number\n",
    "    cube = number * number * number\n",
    "    print(f'{number}\\t{square}\\t{cube}')    \n"
   ]
  },
  {
   "cell_type": "markdown",
   "metadata": {},
   "source": [
    "### Problem 2\n",
    "In the code cell below, finish writing a Python script that inputs three integers from the user. Calculate and print the sum, average (mean), and product of the numbers. (5 pts.)\n",
    "#### Sample Output\n",
    "```\n",
    "Enter 1st integer:  5\n",
    "Enter 2nd integer:  10\n",
    "Enter 3rd integer:  2\n",
    "\n",
    "\n",
    "sum = 17\n",
    "mean = 5.666666666666667\n",
    "product = 100\n",
    "```"
   ]
  },
  {
   "cell_type": "code",
   "execution_count": 32,
   "metadata": {
    "tags": []
   },
   "outputs": [
    {
     "name": "stdout",
     "output_type": "stream",
     "text": [
      "Enter 1st integer: 1\n",
      "Enter 2nd integer: 2\n",
      "Enter 3rd integer: 3\n",
      "sum = 6 \n",
      "mean = 2.0\n",
      "product = 6\n"
     ]
    }
   ],
   "source": [
    "num1 = int(input('Enter 1st integer: '))\n",
    "num2 = int(input('Enter 2nd integer: '))\n",
    "num3 = int(input('Enter 3rd integer: '))\n",
    "sum = num1 + num2 +num3\n",
    "print(f'sum = {sum} ')\n",
    "mean = (num1 + num2 +num3)/3\n",
    "print(f'mean = {mean}')\n",
    "product = num1*num2*num3\n",
    "print(f'product = {product}')\n",
    "\n",
    "\n",
    "\n"
   ]
  },
  {
   "cell_type": "markdown",
   "metadata": {},
   "source": [
    "### Problem 3\n",
    "In the code cell below, finish writing a Python script that inputs three floats from  the user. Calculate and print the minimum and maximum of the numbers using conditional logic (`if` statements). __Hint__: To determine the minimum (or maximum value), assume the first number is the min (max) then compare it to the 2nd number. If the 2nd number is smaller (larger), you have a new min (max). Compare the current min (max) value to the 3rd number. If the 3rd number is smaller (larger), you have a new min (max). Don't just call the min (max) function to find these values. (5 pts.)\n",
    "#### Sample Output\n",
    "```\n",
    "Enter 1st float:  1.5\n",
    "Enter 2nd float:  3.9\n",
    "Enter 3rd float:  0.2\n",
    "\n",
    "min = 0.2\n",
    "max = 3.9\n",
    "```"
   ]
  },
  {
   "cell_type": "code",
   "execution_count": 35,
   "metadata": {
    "tags": []
   },
   "outputs": [
    {
     "name": "stdout",
     "output_type": "stream",
     "text": [
      "Enter 1st float: 3.0\n",
      "Enter 2nd float: 2.0\n",
      "Enter 3rd float: 4.0\n",
      "min = 2.0\n",
      "max = 4.0\n"
     ]
    }
   ],
   "source": [
    "num1 = float(input('Enter 1st float: '))\n",
    "num2 = float(input('Enter 2nd float: '))\n",
    "num3 = float(input('Enter 3rd float: '))\n",
    "\n",
    "\n",
    "min = num1\n",
    "if num2 < min:\n",
    "    min = num2\n",
    "if num3 < num2:\n",
    "    min = num3\n",
    "print(f'min = {min}')\n",
    "max = num1\n",
    "if num2 > max:\n",
    "    max = num2\n",
    "if num3 > num2:\n",
    "    max = num3\n",
    "print(f'max = {max}')    \n",
    "    \n"
   ]
  },
  {
   "cell_type": "markdown",
   "metadata": {},
   "source": [
    "### Problem 4\n",
    "In the code cell below, write a Python script that inputs an integer dollar amount (from 1 - 99 for this application) to be withdrawn from our virtual ATM. You may assume that the user follows your directions for the input (namely, entering an integer between 1 and 99 inclusive). Calculate and print the number of bills of each denomination (twenties, tens, fives, and ones) that should be dispensed, minimizing the total number of bills used. Start with twenties and work your way down to ones. If no bills of a particular denomination are needed, skip that bill in the output using `if` statements. (10 pts.)\n",
    "### Sample Output\n",
    "<pre>\n",
    "Welcome to the Virtual ATM!\n",
    "Enter integer dollar amount (1 - 99): 94\n",
    "    \n",
    "Dispense:\n",
    "4 twenties\n",
    "1 tens\n",
    "4 ones\n",
    "</pre>\n",
    "\n",
    "**Hint**: No _fives_ are printed in the above example because the entered dollar amount didn't require any. Your code, however, must include logic for every denomination (twenties, tens, fives, and ones). An easy way to approach this problem is with the use of floor division (`//`) and remainder (`%`) operations. In this example, the number of twenties needed is `94 // 20`, which gives 4. The remaining amount to be dispensed then is `94 % 20`, which is 14. The number of tens needed then is `14 // 10`, which gives 1. The remaining amount to be dispensed then is `14 % 10`, which is 4. The number of fives needed then is `4 // 5`, which gives 0 (so skip the output). The remaining amount to be dispensed then is `4 % 5`, which is still 4  but we know that should be dispensed as ones (since it's the lowest denomination left). "
   ]
  },
  {
   "cell_type": "code",
   "execution_count": 20,
   "metadata": {
    "jp-MarkdownHeadingCollapsed": true,
    "tags": []
   },
   "outputs": [
    {
     "name": "stdout",
     "output_type": "stream",
     "text": [
      "WELCOME TO THE VIRTUAL ATM!\n",
      "Enter integer dollar amount(1-99):99\n",
      "\n",
      "\n",
      "Dispense:\n",
      "4 twenties\n",
      "1 tens\n",
      "1 fives\n",
      "4 ones\n"
     ]
    }
   ],
   "source": [
    "print(\"WELCOME TO THE VIRTUAL ATM!\")\n",
    "value = int(input(\"Enter integer dollar amount(1-99):\"))\n",
    "print(\"\\n\")\n",
    "print(\"Dispense:\")\n",
    "if  1<= value <= 99:\n",
    "    twenties = value//20\n",
    "    value%=20\n",
    "    tens = value//10\n",
    "    value%=10\n",
    "    fives = value//5\n",
    "    value%=5\n",
    "    ones = value\n",
    "    if twenties > 0:\n",
    "        print(f\"{twenties} twenties\")\n",
    "    if tens > 0:\n",
    "        print(f\"{tens} tens\")\n",
    "    if fives > 0:\n",
    "        print(f\"{fives} fives\")\n",
    "    if ones > 0:\n",
    "        print(f\"{ones} ones\")\n",
    "else:\n",
    "              print(\"Invalid amount please enter a dollar amount between 1-99\")\n",
    "              \n",
    "              \n",
    " \n",
    "              \n",
    "                       \n",
    "\n",
    "\n"
   ]
  }
 ],
 "metadata": {
  "kernelspec": {
   "display_name": "Python 3 (ipykernel)",
   "language": "python",
   "name": "python3"
  },
  "language_info": {
   "codemirror_mode": {
    "name": "ipython",
    "version": 3
   },
   "file_extension": ".py",
   "mimetype": "text/x-python",
   "name": "python",
   "nbconvert_exporter": "python",
   "pygments_lexer": "ipython3",
   "version": "3.11.5"
  }
 },
 "nbformat": 4,
 "nbformat_minor": 4
}
