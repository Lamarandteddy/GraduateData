{
 "cells": [
  {
   "cell_type": "code",
   "execution_count": 11,
   "id": "68fb2d06-ea8b-45ab-b743-4f3ebd9fc315",
   "metadata": {},
   "outputs": [
    {
     "name": "stdout",
     "output_type": "stream",
     "text": [
      "Collecting pandas\n",
      "  Downloading pandas-2.2.2-cp312-cp312-manylinux_2_17_x86_64.manylinux2014_x86_64.whl.metadata (19 kB)\n",
      "Collecting numpy>=1.26.0 (from pandas)\n",
      "  Downloading numpy-2.0.0-cp312-cp312-manylinux_2_17_x86_64.manylinux2014_x86_64.whl.metadata (60 kB)\n",
      "\u001b[2K     \u001b[90m━━━━━━━━━━━━━━━━━━━━━━━━━━━━━━━━━━━━━━━━\u001b[0m \u001b[32m60.9/60.9 kB\u001b[0m \u001b[31m1.6 MB/s\u001b[0m eta \u001b[36m0:00:00\u001b[0m\n",
      "\u001b[?25hRequirement already satisfied: python-dateutil>=2.8.2 in ./miniconda3/lib/python3.12/site-packages (from pandas) (2.9.0.post0)\n",
      "Collecting pytz>=2020.1 (from pandas)\n",
      "  Downloading pytz-2024.1-py2.py3-none-any.whl.metadata (22 kB)\n",
      "Collecting tzdata>=2022.7 (from pandas)\n",
      "  Downloading tzdata-2024.1-py2.py3-none-any.whl.metadata (1.4 kB)\n",
      "Requirement already satisfied: six>=1.5 in ./miniconda3/lib/python3.12/site-packages (from python-dateutil>=2.8.2->pandas) (1.16.0)\n",
      "Downloading pandas-2.2.2-cp312-cp312-manylinux_2_17_x86_64.manylinux2014_x86_64.whl (12.7 MB)\n",
      "\u001b[2K   \u001b[90m━━━━━━━━━━━━━━━━━━━━━━━━━━━━━━━━━━━━━━━━\u001b[0m \u001b[32m12.7/12.7 MB\u001b[0m \u001b[31m58.2 MB/s\u001b[0m eta \u001b[36m0:00:00\u001b[0m00:01\u001b[0m00:01\u001b[0m\n",
      "\u001b[?25hDownloading numpy-2.0.0-cp312-cp312-manylinux_2_17_x86_64.manylinux2014_x86_64.whl (19.0 MB)\n",
      "\u001b[2K   \u001b[90m━━━━━━━━━━━━━━━━━━━━━━━━━━━━━━━━━━━━━━━━\u001b[0m \u001b[32m19.0/19.0 MB\u001b[0m \u001b[31m45.2 MB/s\u001b[0m eta \u001b[36m0:00:00\u001b[0m00:01\u001b[0m00:01\u001b[0m\n",
      "\u001b[?25hDownloading pytz-2024.1-py2.py3-none-any.whl (505 kB)\n",
      "\u001b[2K   \u001b[90m━━━━━━━━━━━━━━━━━━━━━━━━━━━━━━━━━━━━━━━━\u001b[0m \u001b[32m505.5/505.5 kB\u001b[0m \u001b[31m21.5 MB/s\u001b[0m eta \u001b[36m0:00:00\u001b[0m\n",
      "\u001b[?25hDownloading tzdata-2024.1-py2.py3-none-any.whl (345 kB)\n",
      "\u001b[2K   \u001b[90m━━━━━━━━━━━━━━━━━━━━━━━━━━━━━━━━━━━━━━━━\u001b[0m \u001b[32m345.4/345.4 kB\u001b[0m \u001b[31m19.2 MB/s\u001b[0m eta \u001b[36m0:00:00\u001b[0m\n",
      "\u001b[?25hInstalling collected packages: pytz, tzdata, numpy, pandas\n",
      "Successfully installed numpy-2.0.0 pandas-2.2.2 pytz-2024.1 tzdata-2024.1\n",
      "Note: you may need to restart the kernel to use updated packages.\n"
     ]
    }
   ],
   "source": [
    "pip install pandas"
   ]
  },
  {
   "cell_type": "code",
   "execution_count": 19,
   "id": "01cf2251-f7d7-4b64-9fed-a54320a3b2cf",
   "metadata": {},
   "outputs": [
    {
     "name": "stdout",
     "output_type": "stream",
     "text": [
      "Team Members:\n",
      "                 Name          Role  \\\n",
      "1   Jonathan Thompson  Data Analyst   \n",
      "2           Alex Graf  Data Analyst   \n",
      "3  Quentin Williamson  Data Analyst   \n",
      "\n",
      "                                          Responsibilities  \n",
      "1  Defining user stories, Visio model, Data transformation  \n",
      "2  Defining user stories, Visio model, Data transformation  \n",
      "3  Defining user stories, Visio model, Data transformation  \n"
     ]
    }
   ],
   "source": [
    "import pandas as pd\n",
    "\n",
    "team_members = [\n",
    "    {\"Name\": \"Jonathan Thompson\", \"Role\": \"Data Analyst\", \"Responsibilities\": \"Defining user stories, Visio model, Data transformation\"},\n",
    "    {\"Name\": \"Alex Graf\", \"Role\": \"Data Analyst\", \"Responsibilities\": \"Defining user stories, Visio model, Data transformation\"},\n",
    "    {\"Name\": \"Quentin Williamson\", \"Role\": \"Data Analyst\", \"Responsibilities\": \"Defining user stories, Visio model, Data transformation\"}\n",
    "]\n",
    "\n",
    "\n",
    "team_members_df = pd.DataFrame(team_members)\n",
    "\n",
    "team_members_df.index = team_members_df.index + 1\n",
    "\n",
    "pd.set_option('display.max_colwidth', None)\n",
    "\n",
    "print(\"Team Members:\")\n",
    "print(team_members_df)"
   ]
  },
  {
   "cell_type": "code",
   "execution_count": 1,
   "id": "daed8b13-0bed-474e-a132-e61aa5eda0d4",
   "metadata": {},
   "outputs": [
    {
     "name": "stdout",
     "output_type": "stream",
     "text": [
      "User Story 1:\n",
      "AS A Data Analyst\n",
      "I WANT TO analyze the relationship between `Birth Month` and`Job Status`\n",
      "SO THAT I can identify any correlations between birth month and job status\n",
      "Acceptance Criteria: A report is generated showing how `Job Status` varies across different `Birth Months`.\n",
      "\n",
      "Status: Completed\n",
      "\n",
      "User Story 2:\n",
      "AS A Data Analyst\n",
      "I WANT TO create a composite score `Programming Proficiency Score` based on `Programming Experience level (Any language)` and `Python Programming Experience level`\n",
      "SO THAT I can evaluate overall programming proficiency of participants\n",
      "Acceptance Criteria: `Programming Proficiency Score` is calculated as the sum of `Programming Experience level (Any language)` and `Python Programming Experience level` for each participant.\n",
      "\n",
      "Status: Completed\n",
      "\n",
      "User Story 3:\n",
      "AS A Data Analyst\n",
      "I WANT TO categorize `Email Address` domains and analyze them against `Job Status`\n",
      "SO THAT I can understand job distribution across different email domains\n",
      "Acceptance Criteria: `Email Domain` is extracted from `Email Address`, and a summary is created showing job statuses categorized by email domain.\n",
      "\n",
      "Status: Completed\n",
      "\n",
      "User Story 4:\n",
      "AS A Data Analyst\n",
      "I WANT TO categorize participants based on `Programming Experience level (Any language)` and `Python Programming Experience level`\n",
      "SO THAT I can segment participants by their programming skills for targeted analysis\n",
      "Acceptance Criteria: Participants are grouped into categories based on their combined `Programming Experience level (Any language)` and `Python Programming Experience level`.\n",
      "\n",
      "Status: Completed\n",
      "\n",
      "User Story 5:\n",
      "AS A Data Analyst\n",
      "I WANT TO analyze `Job Status` and `Python Programming Experience level` to identify skill distribution within different job roles\n",
      "SO THAT I can assess the alignment of programming skills with job requirements\n",
      "Acceptance Criteria: A report is generated showing the distribution of `Python Programming Experience level` across various `Job Status` categories.\n",
      "\n",
      "Status: Completed\n",
      "\n"
     ]
    }
   ],
   "source": [
    "user_stories = [\n",
    "    {\n",
    "        \"role\": \"Data Analyst\",\n",
    "        \"goal\": \"analyze the relationship between `Birth Month` and`Job Status`\",\n",
    "        \"benefit\": \"I can identify any correlations between birth month and job status\",\n",
    "        \"acceptance_criteria\": \"A report is generated showing how `Job Status` varies across different `Birth Months`.\",\n",
    "        \"status\": \"Completed\"\n",
    "    },\n",
    "    {\n",
    "        \"role\": \"Data Analyst\",\n",
    "        \"goal\": \"create a composite score `Programming Proficiency Score` based on `Programming Experience level (Any language)` and `Python Programming Experience level`\",\n",
    "        \"benefit\": \"I can evaluate overall programming proficiency of participants\",\n",
    "        \"acceptance_criteria\": \"`Programming Proficiency Score` is calculated as the sum of `Programming Experience level (Any language)` and `Python Programming Experience level` for each participant.\",\n",
    "        \"status\": \"Completed\"\n",
    "    },\n",
    "    {\n",
    "        \"role\": \"Data Analyst\",\n",
    "        \"goal\": \"categorize `Email Address` domains and analyze them against `Job Status`\",\n",
    "        \"benefit\": \"I can understand job distribution across different email domains\",\n",
    "        \"acceptance_criteria\": \"`Email Domain` is extracted from `Email Address`, and a summary is created showing job statuses categorized by email domain.\",\n",
    "        \"status\": \"Completed\"\n",
    "    },\n",
    "    {\n",
    "        \"role\": \"Data Analyst\",\n",
    "        \"goal\": \"categorize participants based on `Programming Experience level (Any language)` and `Python Programming Experience level`\",\n",
    "        \"benefit\": \"I can segment participants by their programming skills for targeted analysis\",\n",
    "        \"acceptance_criteria\": \"Participants are grouped into categories based on their combined `Programming Experience level (Any language)` and `Python Programming Experience level`.\",\n",
    "        \"status\": \"Completed\"\n",
    "   \n",
    "    },\n",
    "    {\n",
    "        \"role\": \"Data Analyst\",\n",
    "        \"goal\": \"analyze `Job Status` and `Python Programming Experience level` to identify skill distribution within different job roles\",\n",
    "        \"benefit\": \"I can assess the alignment of programming skills with job requirements\",\n",
    "        \"acceptance_criteria\": \"A report is generated showing the distribution of `Python Programming Experience level` across various `Job Status` categories.\",\n",
    "        \"status\": \"Completed\"\n",
    "    \n",
    "    }\n",
    "]\n",
    "\n",
    "for i, story in enumerate(user_stories, start=1):\n",
    "    print(f\"User Story {i}:\")\n",
    "    print(f\"AS A {story['role']}\")\n",
    "    print(f\"I WANT TO {story['goal']}\")\n",
    "    print(f\"SO THAT {story['benefit']}\")\n",
    "    print(f\"Acceptance Criteria: {story['acceptance_criteria']}\\n\")\n",
    "    print(f\"Status: {story['status']}\\n\")\n",
    "\n"
   ]
  },
  {
   "cell_type": "code",
   "execution_count": null,
   "id": "426a3b35-3ae4-4638-b21d-214da294097c",
   "metadata": {},
   "outputs": [],
   "source": []
  }
 ],
 "metadata": {
  "kernelspec": {
   "display_name": "Python 3 (ipykernel)",
   "language": "python",
   "name": "python3"
  },
  "language_info": {
   "codemirror_mode": {
    "name": "ipython",
    "version": 3
   },
   "file_extension": ".py",
   "mimetype": "text/x-python",
   "name": "python",
   "nbconvert_exporter": "python",
   "pygments_lexer": "ipython3",
   "version": "3.12.2"
  }
 },
 "nbformat": 4,
 "nbformat_minor": 5
}
