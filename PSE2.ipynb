{
 "cells": [
  {
   "cell_type": "markdown",
   "metadata": {},
   "source": [
    "# MSBA 605-77 - Python for Analytics\n",
    "## Problem Solving Exercise 2\n",
    "### Logisitics\n",
    "1. Get into your weekly group.\n",
    "1. Discuss and complete the assignment __together__. Don’t just assign different problems to each teammate! That defeats the purpose of team-based learning.\n",
    "1. Choose a recorder to prepare the final copy to submit to instructor in Blackboard. __Only one person needs to submit__ on behalf of the team.\n",
    "\n",
    "__Names of group members__: ADD HERE (double click the cell in Jupyter to edit)<br>\n",
    "__Due__: Sunday, October 15 (by 11:59 PM)\n",
    "\n",
    "Add your code to the cells below. When finished, be sure to save your notebook, then _Close and Shutdown Notebook_ from the _File_ menu. Return to Blackboard and have recorder upload your completed Notebook file (`PSE2.ipynb`) on behalf of the group."
   ]
  },
  {
   "cell_type": "markdown",
   "metadata": {},
   "source": [
    "## Part 1 "
   ]
  },
  {
   "cell_type": "markdown",
   "metadata": {},
   "source": [
    "### Problem 1\n",
    "In the code cell below, write a Python script that creates a tuple named `time_tuple` that represents an _hour_ (integer from 0-23 inclusive), _minute_ (integer from 0-59 inclusive), and _second_ (integer from 0-59 inclusive) in its 3 elements. Set it for the time 9:16:01 AM. Use the tuple's elements to calculate the number of seconds since midnight, accessing each value using its index `[0]`, `[1]`, [`2]`. Remember, each hour is 3600 seconds and each minute is 60 seconds. Print the `time_tuple` and its number of seconds since midnight. (3 pts.)"
   ]
  },
  {
   "cell_type": "code",
   "execution_count": 9,
   "metadata": {
    "tags": []
   },
   "outputs": [
    {
     "name": "stdout",
     "output_type": "stream",
     "text": [
      "(9, 16, 1)\n",
      "Number of seconds since midnight:  33361\n"
     ]
    }
   ],
   "source": [
    "time_tuple = (9, 16, 1)\n",
    "seconds_midnight = (time_tuple[0]*3600 + time_tuple[1]*60 + 1)\n",
    "print(time_tuple)\n",
    "print(\"Number of seconds since midnight: \",seconds_midnight)"
   ]
  },
  {
   "cell_type": "markdown",
   "metadata": {},
   "source": [
    "### Problem 2\n",
    "In the code cell below, write a Python script that unpacks the elements of the `time_tuple` defined above into the variables named `hour`, `minute`, and `second` using one unpacking assignment statement. Repeat the calculation of the number of seconds since midnight, now using the variables you unpacked from the tuple. Print variables' values and the number of seconds since midnight. (2 pts.)"
   ]
  },
  {
   "cell_type": "code",
   "execution_count": 10,
   "metadata": {
    "tags": []
   },
   "outputs": [
    {
     "name": "stdout",
     "output_type": "stream",
     "text": [
      "hour: 9\n",
      "minute: 16\n",
      "seconds: 1\n",
      "Number of seconds since midnight:  33361\n"
     ]
    }
   ],
   "source": [
    "time_tuple = (9, 16, 1)\n",
    "hour,minute,seconds = time_tuple\n",
    "print(f'hour: {hour}')\n",
    "print(f'minute: {minute}')\n",
    "print(f'seconds: {seconds}')\n",
    "\n",
    "seconds_midnight = (time_tuple[0]*3600 + time_tuple[1]*60 + 1)\n",
    "print(\"Number of seconds since midnight: \",seconds_midnight)\n"
   ]
  },
  {
   "cell_type": "markdown",
   "metadata": {},
   "source": [
    "### Problem 3\n",
    "In the code cell below, write a Python script that creates a string called `alphabet` containing `'abcdefghijklmnopqrstuvwxyz'`, then perform the following separate slice operations to obtain:\n",
    "\n",
    "a. The first half of the string using starting and ending indices. (1 pt.)\n",
    "\n",
    "b. The first half of the string using only the ending index. (1 pt.)\n",
    "\n",
    "c. The second half of the string using starting and ending indices. (1 pt.)\n",
    "\n",
    "d. The second half of the string using only the starting index. (1 pt.)\n",
    "\n",
    "e. Every second letter in the string starting with 'a'. So, aceg... (1 pt.)\n",
    "\n",
    "f. The entire string in reverse. (1 pt.)\n",
    "\n",
    "g. Every third letter of the string in reverse starting with 'z'. So, zwtqn... (1 pts.)"
   ]
  },
  {
   "cell_type": "code",
   "execution_count": 11,
   "metadata": {
    "tags": []
   },
   "outputs": [
    {
     "name": "stdout",
     "output_type": "stream",
     "text": [
      "abcdefghijklm\n",
      "abcdefghijklm\n",
      "nopqrstuvwxyz\n",
      "nopqrstuvwxyz\n",
      "acegikmoqsuwy\n",
      "zyxwvutsrqponmlkjihgfedcba\n",
      "zwtqnkheb\n"
     ]
    }
   ],
   "source": [
    "alphabet = 'abcdefghijklmnopqrstuvwxyz'\n",
    "#str = len(alphabet)//2\n",
    "#print(str)\n",
    "print(alphabet[0:13])\n",
    "print(alphabet[ :13])\n",
    "print(alphabet[13:26])\n",
    "print(alphabet[13: ])\n",
    "print(alphabet[0:26:2])\n",
    "print(alphabet[::-1])\n",
    "print(alphabet[-1:-27:-3])"
   ]
  },
  {
   "cell_type": "markdown",
   "metadata": {},
   "source": [
    "### Problem 4\n",
    "In the code cell below, write a Python script that removes duplicate values from the given list while preserving the sequencing of the remaining elements. If there are duplicates in the original list, the list should end up smaller than it started. (5 pts.)"
   ]
  },
  {
   "cell_type": "code",
   "execution_count": 12,
   "metadata": {
    "tags": []
   },
   "outputs": [
    {
     "name": "stdout",
     "output_type": "stream",
     "text": [
      "[1, 5, 3, 2, 6, 4]\n"
     ]
    }
   ],
   "source": [
    "my_list = [1, 5, 3, 2, 6, 1, 3, 2, 4, 1, 4, 2, 5, 3, 6, 4, 6, 5]\n",
    "new_list = []\n",
    "for num in my_list:\n",
    "    if num not in new_list:\n",
    "        new_list.append(num)\n",
    "print(new_list)"
   ]
  },
  {
   "cell_type": "markdown",
   "metadata": {},
   "source": [
    "### Problem 5\n",
    "In the code cell below, write a Python script that creates a dictionary named `months` that has the names of the months as the keys and the month numbers as values (for example, `'January'` would be a key, and `1` would be its associated value, `'February'` would be a key, and `2` would be its associated value, and so on). Print the dictionary. (3 pts.)"
   ]
  },
  {
   "cell_type": "code",
   "execution_count": 13,
   "metadata": {
    "tags": []
   },
   "outputs": [
    {
     "name": "stdout",
     "output_type": "stream",
     "text": [
      "months = {'January': 1, 'February': 2, 'March': 3, 'April': 4, 'May': 5, 'June': 6, 'July': 7, 'August': 8, 'September': 9, 'October': 10, 'November': 11, 'December': 12}\n"
     ]
    }
   ],
   "source": [
    "months = {\"January\":1,\"February\":2,\"March\":3,\"April\":4,\"May\":5,\"June\":6,\"July\":7,\"August\":8,\"September\":9,\"October\":10,\"November\":11,\"December\":12}\n",
    "print(f'months = {months}')"
   ]
  },
  {
   "cell_type": "markdown",
   "metadata": {},
   "source": [
    "### Problem 6\n",
    "In the code cell below, write a Python script that defines three sets consisting of each group member's three favorite colors as strings (so 3 sets, each with 3 strings). Union the sets to produce a new set consisting of the unique favorite colors of the entire group. (3 pts.)"
   ]
  },
  {
   "cell_type": "code",
   "execution_count": 14,
   "metadata": {
    "tags": []
   },
   "outputs": [
    {
     "name": "stdout",
     "output_type": "stream",
     "text": [
      "Unique Favorite Colors of the Entire Group: {'Yellow', 'Green', 'Blue', 'Red', 'Orange', 'Purple', 'Brown'}\n"
     ]
    }
   ],
   "source": [
    "grp_member1_colors = {'Blue', 'Yellow', 'Red'}\n",
    "grp_member2_colors = {'Red', 'Brown', 'Purple'}\n",
    "grp_member3_colors = {'Blue', 'Green', 'Orange'}\n",
    "unique_favorite_colors = grp_member1_colors.union(grp_member2_colors,grp_member3_colors)\n",
    "\n",
    "print(\"Unique Favorite Colors of the Entire Group:\", unique_favorite_colors)"
   ]
  },
  {
   "cell_type": "markdown",
   "metadata": {},
   "source": [
    "### Problem 7\n",
    "In the code cell below, write a Python script that zips the given lists of keys and values (using the `zip` function) and creates a dictionary from the result. (2 pts.)"
   ]
  },
  {
   "cell_type": "code",
   "execution_count": 15,
   "metadata": {
    "tags": []
   },
   "outputs": [
    {
     "name": "stdout",
     "output_type": "stream",
     "text": [
      "{1: 'one', 2: 'two', 3: 'three'}\n"
     ]
    }
   ],
   "source": [
    "keys = [1, 2, 3]\n",
    "values = ['one', 'two', 'three']\n",
    "tuples = dict(zip(keys,values))\n",
    "print(tuples)"
   ]
  },
  {
   "cell_type": "markdown",
   "metadata": {},
   "source": [
    "## Part 2"
   ]
  },
  {
   "cell_type": "markdown",
   "metadata": {},
   "source": [
    "### Problem 1\n",
    "In the code cell below, write a Python script that uses a <u>list comprehension</u> to filter the range of integers from 1 through 10 (inclusive) to keep only the <u>odd numbers</u> in the range. Print the result. (3 pts.)"
   ]
  },
  {
   "cell_type": "code",
   "execution_count": 17,
   "metadata": {
    "tags": []
   },
   "outputs": [
    {
     "name": "stdout",
     "output_type": "stream",
     "text": [
      "[1, 3, 5, 7, 9]\n"
     ]
    }
   ],
   "source": [
    "oddnum = [x for x in range(1,11,2)] #[if x % 2 != 0]\n",
    "print(oddnum)"
   ]
  },
  {
   "cell_type": "markdown",
   "metadata": {},
   "source": [
    "### Problem 2\n",
    "In the code cell below, write a Python script that uses a <u>dictionary comprehension</u> to create a dictionary named `months2` that swaps the keys and values of the dictionary named `months` that you created earlier. Now, for example, `1` would be a key and `'January'` would be its associated value, `2` would be a key and `'February'` would be its associated value, etc. Print the dictionary. (3 pts.)"
   ]
  },
  {
   "cell_type": "code",
   "execution_count": 18,
   "metadata": {
    "tags": []
   },
   "outputs": [
    {
     "name": "stdout",
     "output_type": "stream",
     "text": [
      "{1: 'January', 2: 'February', 3: 'March', 4: 'April', 5: 'May', 6: 'June', 7: 'July', 8: 'August', 9: 'September', 10: 'October', 11: 'November', 12: 'December'}\n"
     ]
    }
   ],
   "source": [
    "months2 = dict((values, keys) for (keys, values) in months.items())\n",
    "print(months2)"
   ]
  },
  {
   "cell_type": "markdown",
   "metadata": {},
   "source": [
    "### Problem 3\n",
    "In the code cell below, write a Python script that defines a function named `calc_mean` that accepts a list of numbers as its parameter. The function should use a `for` loop to sum the numbers in the list parameter and then divide by the list's length to calculate (and then return) the mean of the numbers in the list. You may assume that the list has at least one number in it (so you don't have to worry about dividing by zero). Test your function with the following list: `[5, 6, 4, 10, 1]`. (4 pts.)"
   ]
  },
  {
   "cell_type": "code",
   "execution_count": 19,
   "metadata": {
    "tags": []
   },
   "outputs": [
    {
     "name": "stdout",
     "output_type": "stream",
     "text": [
      "Result: 5.2\n"
     ]
    }
   ],
   "source": [
    "def calc_mean(num):\n",
    "    my_list = num\n",
    "    sum = 0\n",
    "    for i in num:\n",
    "        sum += i\n",
    "        avg = sum/len(num)\n",
    "    print(\"Result:\", avg)\n",
    "\n",
    "my_list = [5, 6, 4, 10, 1]\n",
    "calc_mean(my_list)\n",
    "        "
   ]
  },
  {
   "cell_type": "markdown",
   "metadata": {},
   "source": [
    "### Problem 4\n",
    "In the code cell below, write a Python script that defines a function named `count_words` that accepts a list of one-word strings as its parameter. The function should use a `for` loop to step through each word in the list and create a dictionary with each unique word as a key and a count of each word's frequency in the list as its associated value. Ignore the case of the letters in each word by using string method `lower` ([documented here](https://docs.python.org/3/library/stdtypes.html#str.lower)). Return the word counts dictionary. Test your function with the following list of words: `['pear', 'apple', 'grape', 'banana', 'grape', 'orange', 'kiwi', 'pear', 'blueberry', 'apple', 'orange', 'pear', 'grape', 'apple', 'orange']`. (5 pts.)"
   ]
  },
  {
   "cell_type": "code",
   "execution_count": 20,
   "metadata": {
    "tags": []
   },
   "outputs": [
    {
     "data": {
      "text/plain": [
       "{'pear': 3,\n",
       " 'apple': 3,\n",
       " 'grape': 3,\n",
       " 'banana': 1,\n",
       " 'orange': 3,\n",
       " 'kiwi': 1,\n",
       " 'blueberry': 1}"
      ]
     },
     "execution_count": 20,
     "metadata": {},
     "output_type": "execute_result"
    }
   ],
   "source": [
    "def count_words(fruit_list):\n",
    "    my_dict = {}\n",
    "    for word in fruit_list:\n",
    "        \n",
    "        word = word.lower()\n",
    "        if word not in my_dict:\n",
    "            my_dict[word] = 1\n",
    "        else:\n",
    "            my_dict[word]+=1\n",
    "    return my_dict\n",
    "        \n",
    "fruit_list = ['pear', 'apple', 'grape', 'banana', 'grape', 'orange', 'kiwi', 'pear', 'blueberry', 'apple', 'orange', 'pear', 'grape', 'apple', 'orange']\n",
    "count_words(fruit_list)"
   ]
  },
  {
   "cell_type": "markdown",
   "metadata": {},
   "source": [
    "### Problem 5\n",
    "In the code cell below, write a Python script that uses a _lambda expression_ in a call to the text's `apply_to_list` function from [Section 3.2](https://wesmckinney.com/book/python-builtin#functions_lambda ) (provided below) to calculate the _square root_ of each value in the specified list. Print the original list and the returned list of square roots. (5 pts.)"
   ]
  },
  {
   "cell_type": "code",
   "execution_count": 21,
   "metadata": {},
   "outputs": [
    {
     "name": "stdout",
     "output_type": "stream",
     "text": [
      "[100, 4, 81, 49, 5]\n",
      "[10.0, 2.0, 9.0, 7.0, 2.23606797749979]\n"
     ]
    }
   ],
   "source": [
    "def apply_to_list(some_list, f):\n",
    "    return [f(x) for x in some_list]\n",
    "\n",
    "test_list = [100, 4, 81, 49, 5]\n",
    "sqrt = apply_to_list(test_list, lambda x: x**.5)\n",
    "\n",
    "print(test_list)\n",
    "print(sqrt)\n",
    "\n",
    "# Add your code here"
   ]
  },
  {
   "cell_type": "markdown",
   "metadata": {},
   "source": [
    "#### Problem 6\n",
    "In the code cell below, write a Python script that defines a function named `input_int` that accepts a string as its parameter that will be used to prompt the user to input a value that the function will try to convert to an `int`. If the user's input would otherwise raise an exception, suppress the error and return `None` instead. Otherwise, return the `int` representation of the input that the user entered.  Include a call to your function so that it can be tested. (5 pts.)"
   ]
  },
  {
   "cell_type": "code",
   "execution_count": 24,
   "metadata": {},
   "outputs": [
    {
     "name": "stdin",
     "output_type": "stream",
     "text": [
      "Enter the input value: 32\n"
     ]
    },
    {
     "name": "stdout",
     "output_type": "stream",
     "text": [
      "32\n"
     ]
    }
   ],
   "source": [
    "def input_int(param):\n",
    "    try:\n",
    "        return int(input(param))\n",
    "    except:\n",
    "        return None\n",
    "\n",
    "result = input_int(\"Enter the input value:\")\n",
    "print(result)"
   ]
  }
 ],
 "metadata": {
  "kernelspec": {
   "display_name": "Python 3 (ipykernel)",
   "language": "python",
   "name": "python3"
  },
  "language_info": {
   "codemirror_mode": {
    "name": "ipython",
    "version": 3
   },
   "file_extension": ".py",
   "mimetype": "text/x-python",
   "name": "python",
   "nbconvert_exporter": "python",
   "pygments_lexer": "ipython3",
   "version": "3.11.5"
  }
 },
 "nbformat": 4,
 "nbformat_minor": 4
}
