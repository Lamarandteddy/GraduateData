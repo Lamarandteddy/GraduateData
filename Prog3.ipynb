{
 "cells": [
  {
   "cell_type": "markdown",
   "metadata": {
    "id": "GacMba-5t1SX"
   },
   "source": [
    "# MSBA 605-77 - Python for Analytics\n",
    "## Program 3\n",
    "__Name__: ADD HERE (double click the cell in Jupyter to edit)<br>\n",
    "__Due__: Sunday, October 22 (by 11:59 PM)<br />\n",
    "__Worth__: 100 pts.<br />\n",
    "__Purpose__: Use NumPy to vectorize a Monte Carlo simulation approach to estimate the value of π.\n",
    "\n",
    "Add your code to the cells below. When finished, be sure to save your notebook, then _Close and Shutdown Notebook_ from the _File_ menu. Return to Blackboard and upload your completed Notebook file (`Prog3.ipynb`)."
   ]
  },
  {
   "cell_type": "code",
   "execution_count": null,
   "metadata": {
    "id": "WjernZjFt1Sa"
   },
   "outputs": [],
   "source": [
    "### Directions\n",
    "In the code cell below, write Python code to accomplish the following using what you've learned through [Chapter 4](https://wesmckinney.com/book/numpy-basics). Let's continue our exploration of π by creating a new estimate using [Monte Carlo simulation](https://www.ibm.com/topics/monte-carlo-simulation). Our approach will follow Example 1 from the following article (you may need to sign up for a free Medium account to view the article):\n",
    "\n",
    "<a href=\"https://medium.com/cantors-paradise/estimating-%CF%80-using-monte-carlo-simulations-3459a84b5ef9\" target=\"_blank\">Estimating π using Monte Carlo simulations</a>\n",
    "\n",
    "This technique relies on simulation and random numbers to estimate the value of π essentially by throwing darts at a board inscribed with a circle and counting how many darts land inside the circle and how many land outside the circle. For everyone's safety, let's stick to a computer-based simulation! To simplify, we'll use the first quadrant unit square as suggested in the article.\n",
    "\n",
    "The approach will work as follows:\n",
    "1. For each dart thrown, generate its coordinates, _x_ and _y_, using a random uniform distribution from 0 - 1. The NumPy `uniform` method may be used to generate these random coordinates. See the [NumPy documentation](https://numpy.org/doc/stable/reference/random/generated/numpy.random.Generator.uniform.html) for more details on this method.\n",
    "1. If the dart is inside the quarter-circle, we'll count it. A dart is inside the quarter-circle if its distance from the origin (0, 0) is <= 1. You may use the simplified distance formula: $D = \\sqrt{x^2 + y^2}$\n",
    "1. After all the darts have been thrown and counted, Pi may be estimated as: $π = 4 \\cdot \\frac{NumDartsInsideCircle}{TotalNumDarts}$\n",
    "\n",
    "You may follow the more detailed steps below to vectorize this approach using NumPy:\n",
    "\n",
    "1. So we all get the same results, create a fresh random generator with `seed=12345`.\n",
    "2. To start vectorizing this approach, begin by generating 1 million random coordinates between 0 - 1 (representing 1 million darts thrown) using the `uniform` method with a `size = (1_000_000, 2)` and store them in a NumPy array. The array should have 1 million rows and 2 columns (which you can easily check using the array's `shape` attribute).\n",
    "3. Next, generate an array of distances by calling the NumPy `sqrt` function (see [NumPy documentation](https://numpy.org/doc/stable/reference/generated/numpy.sqrt.html) for details) on the sum of the square of each coordinate column (applying the simplified distance formula $D = \\sqrt{x^2 + y^2}$). You can use a slice of `[:,0]` and `[:,1]` to isolate each column from the array of coordinates (the `:` keeps all the rows intact) and standard Python operators for exponentiation (`** 2` for square) and addition (`+`).\n",
    "4. Next, create a Boolean array that compares each distance in your distance array to see if it is `<= 1`. A `True` value means that the randomly thrown dart landed within the unit circle and should be counted. \n",
    "5. Next, count all the `True` values in the Boolean array (you can just call the Python built-in `sum` function on your Boolean array). If you use the same random generator seed as specified, your count should be `785426`.\n",
    "6. Finally, use the formula $π = 4 \\cdot \\frac{NumDartsInsideCircle}{TotalNumDarts}$ to determine the estimate of Pi and print this result. If you use the same random generator seed as specified, your estimate for Pi should end up as `3.141704`.\n",
    "\n",
    "Fully implemented as described above, this should take no more than 10 lines of code! NumPy makes it relatively easy to implement vectorized solutions of Monte Carlo simulations such as this.\n",
    "\n",
    "For up to __10 points of Extra Credit__, if you know how to use _matplotlib_ or _Seaborn_, create and display a plot showing each of the coordinates generated as a dot in the unit square. Use different colors for the points within the unit circle and the points outside the unit circle. The plot might look similar to:\n",
    "\n",
    "![piMonteCarlo.png](attachment:f17c764c-953d-4ec3-b43a-2983e1bb6c7f.png)"
   ]
  },
  {
   "cell_type": "code",
   "execution_count": 10,
   "metadata": {
    "tags": []
   },
   "outputs": [
    {
     "name": "stdout",
     "output_type": "stream",
     "text": [
      "Array Shape: = (1000000, 2)\n",
      "\n",
      "[[0.22733602 0.31675834]\n",
      " [0.79736546 0.67625467]\n",
      " [0.39110955 0.33281393]\n",
      " ...\n",
      " [0.42059976 0.69794228]\n",
      " [0.57941099 0.03985098]\n",
      " [0.50975788 0.47430116]]\n",
      "\n",
      "[0.38989423 1.04551999 0.51354824 ... 0.81487888 0.58077982 0.69628636]\n",
      "\n",
      "167086.90459631052\n",
      "\n",
      "[ True False  True ...  True  True  True]\n",
      "\n",
      "785426\n",
      "\n",
      "Estimate of Pi: 3.141704\n"
     ]
    }
   ],
   "source": [
    "import numpy as np\n",
    "\n",
    "seed=12345\n",
    "dart_number = 1_000_000\n",
    "rng =np.random.default_rng(seed)\n",
    "array_coordinates = rng.random((num_darts, 2))\n",
    "print(f'Array Shape: = {array_coordinates.shape}')\n",
    "print(\"\")\n",
    "print(array_coordinates)\n",
    "print(\"\")\n",
    "\n",
    "array_distances = np.sqrt(array_coordinates[:, 0] ** 2 + array_coordinates[:, 1] ** 2)\n",
    "print(array_distances)\n",
    "print(\"\")\n",
    "\n",
    "squares_sum = np.sum((array_coordinates[:, 0] - array_coordinates[:, 1]) ** 2)\n",
    "print(squares_sum)\n",
    "print(\"\")\n",
    "\n",
    "circle_inside = array_distances <= 1.0\n",
    "print(circle_inside)\n",
    "print(\"\")\n",
    "\n",
    "inside_count = np.sum(circle_inside)\n",
    "print(inside_count)\n",
    "print(\"\")\n",
    "\n",
    "pi_estimate = 4 * inside_count / dart_number\n",
    "print(\"Estimate of Pi:\", pi_estimate)"
   ]
  },
  {
   "cell_type": "markdown",
   "metadata": {
    "id": "bexgWeCMt1Sn"
   },
   "source": [
    "Be sure to save and exit your Jupyter Notebook and Shutdown Jupyter Lab (from the __File__ menu) before you submit your notebook on Blackboard for grading."
   ]
  }
 ],
 "metadata": {
  "colab": {
   "collapsed_sections": [],
   "name": "Prog1.ipynb",
   "provenance": []
  },
  "kernelspec": {
   "display_name": "Python 3 (ipykernel)",
   "language": "python",
   "name": "python3"
  },
  "language_info": {
   "codemirror_mode": {
    "name": "ipython",
    "version": 3
   },
   "file_extension": ".py",
   "mimetype": "text/x-python",
   "name": "python",
   "nbconvert_exporter": "python",
   "pygments_lexer": "ipython3",
   "version": "3.11.5"
  }
 },
 "nbformat": 4,
 "nbformat_minor": 4
}
